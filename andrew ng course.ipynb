{
 "cells": [
  {
   "cell_type": "code",
   "execution_count": 9,
   "metadata": {},
   "outputs": [
    {
     "name": "stdout",
     "output_type": "stream",
     "text": [
      "vecorized approach 2.000093460083008ms\n",
      "249775.14515557615\n",
      "249775.14515557\n",
      "For loop approach 669.0001487731934ms\n"
     ]
    }
   ],
   "source": [
    "import numpy as np\n",
    "import time\n",
    "#understanding the difference in implementing a vectorized and non vectorized approach \n",
    "#we want to use a vectorized approach when dealing with large amounts of data so that we can write much more efficient code.\n",
    "\n",
    "a=np.random.rand(1000000)\n",
    "b=np.random.rand(1000000)\n",
    "\n",
    "tic=time.time()\n",
    "c=np.dot(a,b)\n",
    "toc=time.time()\n",
    "print('vecorized approach '+ str(1000*(toc-tic)) +\"ms\")\n",
    "print(c)\n",
    "\n",
    "c=0\n",
    "tic=time.time()\n",
    "for i in range(1000000):\n",
    "    c+=a[i]*b[i]\n",
    "toc=time.time()\n",
    "print(c)    \n",
    "print('For loop approach '+ str(1000*(toc-tic))+\"ms\")#we can see that the vectorized approach is much faster as compared to the non vectorized approach"
   ]
  },
  {
   "cell_type": "code",
   "execution_count": 10,
   "metadata": {},
   "outputs": [
    {
     "name": "stdout",
     "output_type": "stream",
     "text": [
      "[-0.07699907 -0.48782495  1.98033074  1.98452389 -0.67104431]\n"
     ]
    }
   ],
   "source": [
    "#tips while working with numpy arrays/vectors in python\n",
    "\n",
    "a=np.random.randn(5)\n",
    "print(a)"
   ]
  },
  {
   "cell_type": "code",
   "execution_count": 11,
   "metadata": {},
   "outputs": [
    {
     "name": "stdout",
     "output_type": "stream",
     "text": [
      "(5,)\n"
     ]
    }
   ],
   "source": [
    "print(a.shape)#this is known as a first rank array in python this should be avoided as it doest exactly work how we expect it to work"
   ]
  },
  {
   "cell_type": "code",
   "execution_count": 12,
   "metadata": {},
   "outputs": [
    {
     "name": "stdout",
     "output_type": "stream",
     "text": [
      "[-0.07699907 -0.48782495  1.98033074  1.98452389 -0.67104431]\n"
     ]
    }
   ],
   "source": [
    "print(a.T)#Transpose looks exactly like a"
   ]
  },
  {
   "cell_type": "code",
   "execution_count": 13,
   "metadata": {},
   "outputs": [
    {
     "name": "stdout",
     "output_type": "stream",
     "text": [
      "8.554247399993068\n"
     ]
    }
   ],
   "source": [
    "print(np.dot(a,a.T))#we should get a matrix in this case"
   ]
  },
  {
   "cell_type": "code",
   "execution_count": 15,
   "metadata": {},
   "outputs": [
    {
     "name": "stdout",
     "output_type": "stream",
     "text": [
      "[[ 1.06733358]\n",
      " [ 0.31929724]\n",
      " [ 2.18747661]\n",
      " [-0.00534127]\n",
      " [ 0.71585721]]\n",
      "(5, 1)\n"
     ]
    }
   ],
   "source": [
    "#to solve this problem\n",
    "b=np.random.randn(5,1)\n",
    "print(b)\n",
    "print(b.shape)"
   ]
  },
  {
   "cell_type": "code",
   "execution_count": 16,
   "metadata": {},
   "outputs": [
    {
     "name": "stdout",
     "output_type": "stream",
     "text": [
      "[[ 1.06733358  0.31929724  2.18747661 -0.00534127  0.71585721]]\n"
     ]
    }
   ],
   "source": [
    "print(b.T)#see the two [[ ]]"
   ]
  },
  {
   "cell_type": "code",
   "execution_count": 18,
   "metadata": {},
   "outputs": [
    {
     "name": "stdout",
     "output_type": "stream",
     "text": [
      "[[ 1.13920098e+00  3.40796671e-01  2.33476725e+00 -5.70091466e-03\n",
      "   7.64058440e-01]\n",
      " [ 3.40796671e-01  1.01950730e-01  6.98455253e-01 -1.70545213e-03\n",
      "   2.28571233e-01]\n",
      " [ 2.33476725e+00  6.98455253e-01  4.78505394e+00 -1.16838987e-02\n",
      "   1.56592090e+00]\n",
      " [-5.70091466e-03 -1.70545213e-03 -1.16838987e-02  2.85291433e-05\n",
      "  -3.82358517e-03]\n",
      " [ 7.64058440e-01  2.28571233e-01  1.56592090e+00 -3.82358517e-03\n",
      "   5.12451544e-01]]\n"
     ]
    }
   ],
   "source": [
    "print(np.dot(b,b.T))"
   ]
  },
  {
   "cell_type": "code",
   "execution_count": 20,
   "metadata": {},
   "outputs": [
    {
     "data": {
      "text/plain": [
       "array([[ 1.13882245, -0.08741608,  1.05394537],\n",
       "       [ 0.15522748, -0.39434808, -1.72387095],\n",
       "       [ 0.08267402, -0.2043395 , -0.15430972]])"
      ]
     },
     "execution_count": 20,
     "metadata": {},
     "output_type": "execute_result"
    }
   ],
   "source": [
    "a = np.random.randn(3, 3)\n",
    "b = np.random.randn(3, 1)\n",
    "c = a*b\n",
    "c"
   ]
  },
  {
   "cell_type": "code",
   "execution_count": null,
   "metadata": {},
   "outputs": [],
   "source": []
  },
  {
   "cell_type": "code",
   "execution_count": null,
   "metadata": {},
   "outputs": [],
   "source": []
  },
  {
   "cell_type": "code",
   "execution_count": null,
   "metadata": {},
   "outputs": [],
   "source": []
  }
 ],
 "metadata": {
  "kernelspec": {
   "display_name": "Python 3",
   "language": "python",
   "name": "python3"
  },
  "language_info": {
   "codemirror_mode": {
    "name": "ipython",
    "version": 3
   },
   "file_extension": ".py",
   "mimetype": "text/x-python",
   "name": "python",
   "nbconvert_exporter": "python",
   "pygments_lexer": "ipython3",
   "version": "3.7.2"
  }
 },
 "nbformat": 4,
 "nbformat_minor": 2
}
